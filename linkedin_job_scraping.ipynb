{
 "cells": [
  {
   "cell_type": "markdown",
   "id": "95cf381c-474a-4da6-b78d-dbe064c8b110",
   "metadata": {
    "tags": []
   },
   "source": [
    "## Technical Assessment\n",
    "### Internship- Data Analyst\n",
    "### Part 1:\n",
    "### Use Python\n",
    "Extract the maximum job posts through LinkedIn web scraping. Please keep these points in mind\n",
    "before extraction\n",
    "1. Job Location: Worldwide except USA and Canada\n",
    "2. Job Type- Full time and Contract\n",
    "3. Work format- Remote\n",
    "4. Maximum information of company and job poster\n",
    "5. Unique records of Company&Job_Location&Title&Job_Post_URL only\n",
    "You may refer to the Link for reference.\n",
    "NOTE- Please keep yourself logged out from LinkedIn while scraping.\n",
    "### Part 2:\n",
    "To make it scalable please sync the output to google sheet (Share property- Anyone with the link)\n",
    "NOTE- Each run unique output should append to the old extracted output"
   ]
  },
  {
   "cell_type": "code",
   "execution_count": null,
   "id": "ec293150-1786-4d18-9678-2869979e4c9a",
   "metadata": {},
   "outputs": [],
   "source": [
    "from selenium import webdriver\n",
    "import time\n",
    "import pandas as pd\n",
    "import os\n",
    "\n",
    "import gspread\n",
    "from df2gspread import df2gspread as d2g\n",
    "import google.auth\n",
    "\n",
    "from selenium.webdriver.support.select import Select\n",
    "from selenium.webdriver.support.ui import WebDriverWait\n",
    "from selenium.webdriver.common.by import By\n",
    "from selenium.webdriver.support import expected_conditions as EC"
   ]
  },
  {
   "cell_type": "code",
   "execution_count": null,
   "id": "bba31e7b-a75b-465f-bdb2-69c456d9ba1b",
   "metadata": {},
   "outputs": [],
   "source": [
    "driver_path = 'B:\\Downloads\\chromedriver_win32\\chromedriver.exe'\n",
    "\n",
    "#Note: For filtering out full time and contract job types and remote work format,\n",
    "#I applied the filters on the linkedin jobs website and then copied the url\n",
    "\n",
    "url1='https://www.linkedin.com/jobs/jobs-in-worldwide?keywords=&location=Worldwide&locationId=&geoId=92000000&f_TPR=&f_JT=F%2CC&f_WT=2&position=1&pageNum=0'"
   ]
  },
  {
   "cell_type": "code",
   "execution_count": null,
   "id": "10e56311-f130-44db-a31c-bbdf84d099a4",
   "metadata": {},
   "outputs": [],
   "source": [
    "service = webdriver.chrome.service.Service(driver_path)\n",
    "service.start()\n",
    "driver = webdriver.Remote(service.service_url)\n",
    "driver.get(url1)\n",
    "driver.implicitly_wait(10)"
   ]
  },
  {
   "cell_type": "code",
   "execution_count": null,
   "id": "109e0d04-fe46-4739-ad6a-46a52c93bff1",
   "metadata": {
    "tags": []
   },
   "outputs": [],
   "source": [
    "#Find number of job listings\n",
    "\n",
    "y=driver.find_element(By.CLASS_NAME, \"results-context-header__job-count\").text.rstrip(\"+\").replace(\",\",\"\")\n",
    "n=int(y)\n",
    "n"
   ]
  },
  {
   "cell_type": "code",
   "execution_count": null,
   "id": "29436560-2672-446b-824d-055fbc1a9270",
   "metadata": {
    "tags": []
   },
   "outputs": [],
   "source": [
    "#Loop to scroll through all jobs and click on see more jobs button for infinite scrolling\n",
    "\n",
    "i = 2\n",
    "while i <3: #Condition can be changed to scrap larger dataset\n",
    "    driver.execute_script(\"window.scrollTo(0, document.body.scrollHeight);\")\n",
    "    i = i + 1\n",
    "    \n",
    "    try:\n",
    "        send=driver.find_element(By.XPATH, \"//button[@aria-label='See more jobs']\")\n",
    "        driver.execute_script(\"arguments[0].click();\", send)   \n",
    "        time.sleep(3)\n",
    "    \n",
    "    except:\n",
    "        pass\n",
    "        time.sleep(5)\n",
    "         "
   ]
  },
  {
   "cell_type": "code",
   "execution_count": null,
   "id": "40d37d4d-2149-4b96-8ad4-6cbe5e617203",
   "metadata": {
    "tags": []
   },
   "outputs": [],
   "source": [
    "#Create empty lists to store data\n",
    "\n",
    "companyname= []\n",
    "titlename= []\n",
    "location= []"
   ]
  },
  {
   "cell_type": "code",
   "execution_count": null,
   "id": "bff7fa4c-c773-42db-b79b-b4443dfacf5e",
   "metadata": {
    "tags": []
   },
   "outputs": [],
   "source": [
    "url= []"
   ]
  },
  {
   "cell_type": "code",
   "execution_count": null,
   "id": "b4e94ced-0d4f-4ce9-a287-a36efc563a4e",
   "metadata": {
    "tags": []
   },
   "outputs": [],
   "source": [
    "#Find company name and append it to the blank list\n",
    "\n",
    "try:\n",
    "    for i in range(n):\n",
    "        company=driver.find_elements(By.CLASS_NAME, 'base-search-card__subtitle')[i].text\n",
    "        companyname.append(company)\n",
    "        \n",
    "except IndexError:\n",
    "    print(\"no\")"
   ]
  },
  {
   "cell_type": "code",
   "execution_count": null,
   "id": "74815cf2-1177-4b4e-afd1-fbc0e53d52b0",
   "metadata": {
    "tags": []
   },
   "outputs": [],
   "source": [
    "len(companyname)"
   ]
  },
  {
   "cell_type": "code",
   "execution_count": null,
   "id": "90091a7d-87e9-4f36-9c7a-8a1648436077",
   "metadata": {
    "tags": []
   },
   "outputs": [],
   "source": [
    "#Find title name and append it to the blank list\n",
    "\n",
    "try:\n",
    "    for i in range(n):\n",
    "        title=driver.find_elements(By.CLASS_NAME, 'base-search-card__title')[i].text\n",
    "        titlename.append(title)\n",
    "        \n",
    "except IndexError:\n",
    "    print(\"no\")"
   ]
  },
  {
   "cell_type": "code",
   "execution_count": null,
   "id": "50bc10dc-b49b-41e3-b391-81aa5dec8a4e",
   "metadata": {
    "tags": []
   },
   "outputs": [],
   "source": [
    "len(titlename)"
   ]
  },
  {
   "cell_type": "code",
   "execution_count": null,
   "id": "fdf723b5-d453-4260-a0cf-dbabad83499d",
   "metadata": {
    "tags": []
   },
   "outputs": [],
   "source": [
    "#Find location and append it to the blank list\n",
    "\n",
    "try:\n",
    "    for i in range(n):\n",
    "        loc=driver.find_elements(By.CLASS_NAME, 'job-search-card__location')[i].text\n",
    "        location.append(loc)\n",
    "        \n",
    "except IndexError:\n",
    "    print(\"no\")"
   ]
  },
  {
   "cell_type": "code",
   "execution_count": null,
   "id": "98ea63ee-e5ed-45cb-8470-8c364bbe08ea",
   "metadata": {
    "tags": []
   },
   "outputs": [],
   "source": [
    "len(location)"
   ]
  },
  {
   "cell_type": "code",
   "execution_count": null,
   "id": "a2b16132-76ea-4f07-9f3f-ddce96ed09b1",
   "metadata": {
    "tags": []
   },
   "outputs": [],
   "source": [
    "#Find post url and append it to the blank list\n",
    "\n",
    "link=driver.find_elements(By.CLASS_NAME, 'base-card__full-link')\n",
    "for k in link:\n",
    "    url.append(k.get_attribute('href'))"
   ]
  },
  {
   "cell_type": "code",
   "execution_count": null,
   "id": "8365b05f-3958-4e15-923f-8b148590ec7c",
   "metadata": {
    "tags": []
   },
   "outputs": [],
   "source": [
    "len(url)"
   ]
  },
  {
   "cell_type": "code",
   "execution_count": null,
   "id": "cd97ae02-d705-408a-a2b7-d679a76d197d",
   "metadata": {
    "tags": []
   },
   "outputs": [],
   "source": [
    "#Create dataframe\n",
    "\n",
    "data = {\"Company\": companyname, \"Title\": titlename, \"Location\": location, \"Post URL\": url}\n",
    "\n",
    "jobsdf = pd.DataFrame(data)"
   ]
  },
  {
   "cell_type": "code",
   "execution_count": null,
   "id": "a7858d33-6f21-4c1e-b98c-4a5bfebfa330",
   "metadata": {
    "tags": []
   },
   "outputs": [],
   "source": [
    "jobsdf"
   ]
  },
  {
   "cell_type": "code",
   "execution_count": null,
   "id": "9878adff-2625-4e07-95d0-08a4f0c8e140",
   "metadata": {
    "tags": []
   },
   "outputs": [],
   "source": [
    "#Filtering jobs according to location i.e. worldwide except USA and Canada\n",
    "\n",
    "index_labels = jobsdf[(jobsdf['Location'].str.contains('United States')) | (jobsdf['Location'].str.contains('Canada'))].index\n",
    "\n",
    "jobsdf.drop(index_labels, inplace=True)"
   ]
  },
  {
   "cell_type": "code",
   "execution_count": null,
   "id": "6cdf8f27-4a54-4c74-beb4-9887f3fa2f2a",
   "metadata": {
    "tags": []
   },
   "outputs": [],
   "source": [
    "jobsdf"
   ]
  },
  {
   "cell_type": "markdown",
   "id": "2f85b010-26f5-4cec-82e1-8c3cd4e29a11",
   "metadata": {},
   "source": [
    "# Part 2 "
   ]
  },
  {
   "cell_type": "code",
   "execution_count": null,
   "id": "7f6dd652-d974-4884-930b-ea495f6ce944",
   "metadata": {},
   "outputs": [],
   "source": [
    "from oauth2client.service_account import ServiceAccountCredentials\n",
    "\n",
    "\n",
    "def create_connection(service_file):\n",
    "    client = None\n",
    "    scope = [\n",
    "        \"https://www.googleapis.com/auth/drive\",\n",
    "        \"https://www.googleapis.com/auth/drive.file\",\n",
    "    ]\n",
    "    try:\n",
    "        credentials = ServiceAccountCredentials.from_json_keyfile_name(\n",
    "            service_file, scope\n",
    "        )\n",
    "        client = gspread.authorize(credentials)\n",
    "        print(\"Connection established successfully...\")\n",
    "    except Exception as e:\n",
    "        print(e)\n",
    "    return client\n",
    "\n",
    "\n",
    "service = \"jobscraping-410904-f0a2fc80b073.json\"  \n",
    "client = create_connection(service)"
   ]
  },
  {
   "cell_type": "code",
   "execution_count": null,
   "id": "edddb852-74f6-46c9-8dea-3651c7ee943a",
   "metadata": {
    "tags": []
   },
   "outputs": [],
   "source": [
    "def create_google_sheet(client, sheet_name):\n",
    "    google_sheet = None\n",
    "    try:\n",
    "        google_sheet = client.create(sheet_name)\n",
    "        google_sheet.share(\n",
    "            \"nitindhiman112780@gmail.com\",  \n",
    "            perm_type=\"user\",\n",
    "            role=\"writer\",\n",
    "        )\n",
    "        print(\"Google Sheet created successfully...\")\n",
    "    except Exception as e:\n",
    "        print(e)\n",
    "    return google_sheet\n",
    "\n",
    "\n",
    "service = \"jobscraping-410904-f0a2fc80b073.json\"  \n",
    "client = create_connection(service)\n",
    "\n",
    "sheet_name = \"Scraped_Jobs\"  \n",
    "google_sheet = create_google_sheet(client, sheet_name)"
   ]
  },
  {
   "cell_type": "code",
   "execution_count": null,
   "id": "73496f89-1061-4ad2-b8d1-4e00575871fb",
   "metadata": {
    "tags": []
   },
   "outputs": [],
   "source": [
    "def export_dataframe_to_google_sheet(worksheet, dataframe):\n",
    "    try:\n",
    "        worksheet.update(\n",
    "            [dataframe.columns.values.tolist()] + dataframe.values.tolist()\n",
    "        )\n",
    "        print(\"DataFrame exported successfully...\")\n",
    "    except Exception as e:\n",
    "        print(e)\n",
    "\n",
    "worksheet = google_sheet.get_worksheet(0)\n",
    "export_dataframe_to_google_sheet(worksheet, jobsdf)"
   ]
  },
  {
   "cell_type": "code",
   "execution_count": null,
   "id": "505885ea-1a09-402d-9bc1-8f5fdb6c2701",
   "metadata": {},
   "outputs": [],
   "source": []
  }
 ],
 "metadata": {
  "kernelspec": {
   "display_name": "Python 3 (ipykernel)",
   "language": "python",
   "name": "python3"
  },
  "language_info": {
   "codemirror_mode": {
    "name": "ipython",
    "version": 3
   },
   "file_extension": ".py",
   "mimetype": "text/x-python",
   "name": "python",
   "nbconvert_exporter": "python",
   "pygments_lexer": "ipython3",
   "version": "3.11.3"
  }
 },
 "nbformat": 4,
 "nbformat_minor": 5
}
